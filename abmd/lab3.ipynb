{
 "cells": [
  {
   "cell_type": "code",
   "metadata": {
    "pycharm": {
     "name": "#%%\n",
     "is_executing": false
    }
   },
   "source": [
    "import random\n",
    "from datetime import datetime\n",
    "\n",
    "random.seed(datetime.now())\n",
    "\n",
    "u = [random.uniform(-5, 5) for i in range(6)]\n",
    "print(\"u: \" + str(u))"
   ],
   "execution_count": 642,
   "outputs": [
    {
     "name": "stdout",
     "text": [
      "u: [-3.1424927091149026, 2.733536093410626, -2.0564627520052903, 3.7370578042310836, 3.36263438232646, 3.226970286810962]\n"
     ],
     "output_type": "stream"
    }
   ]
  },
  {
   "cell_type": "code",
   "metadata": {
    "pycharm": {
     "name": "#%%\n",
     "is_executing": false
    }
   },
   "source": [
    "import numpy as np\n",
    "\n",
    "k = 200\n",
    "\n",
    "np.random.seed(int(datetime.now().microsecond))\n",
    "\n",
    "x = np.random.normal(size = k).reshape(k, 1)\n",
    "y = e = np.random.normal(size = k).reshape(k, 1)\n",
    "for i in range(6):\n",
    "    y += u[i] * (x ** i)\n",
    "y = y[:, 0]\n",
    "# print(\"x: \" + str(x[:, 0]))\n",
    "# print(\"y: \" + str(y))"
   ],
   "execution_count": 643,
   "outputs": []
  },
  {
   "cell_type": "code",
   "execution_count": 644,
   "metadata": {
    "pycharm": {
     "is_executing": false
    }
   },
   "outputs": [],
   "source": [
    "from sklearn.model_selection import train_test_split\n",
    "from sklearn.linear_model import LinearRegression\n",
    "from sklearn.metrics import mean_absolute_error\n",
    "\n",
    "X, train_mae, test_mae = x, [], []\n",
    "\n",
    "for i in range(1, 11):\n",
    "    x_train, x_test, y_train, y_test = train_test_split(X, y, train_size = 0.7)\n",
    "    reg = LinearRegression()\n",
    "    reg.fit(x_train, y_train)\n",
    "    train_mae.append(mean_absolute_error(y_train, reg.predict(x_train)))\n",
    "    test_mae.append(mean_absolute_error(y_test, reg.predict(x_test)))\n",
    "    X = np.hstack((X, x ** (i + 1)))\n",
    "X = X[:, : -1]"
   ]
  },
  {
   "cell_type": "code",
   "metadata": {
    "pycharm": {
     "name": "#%%\n",
     "is_executing": false
    }
   },
   "source": [
    "import matplotlib.pyplot as plt\n",
    "from sklearn.linear_model import LassoCV\n",
    "from sklearn.linear_model import RidgeCV\n",
    "\n",
    "plt.title('Train score')\n",
    "plt.plot(range(1, 11), train_mae)\n",
    "plt.xlabel('Polynomial degree')\n",
    "plt.ylabel('Mae')\n",
    "plt.grid()\n",
    "plt.show()\n",
    "\n",
    "plt.title('Test score')\n",
    "plt.plot(range(1, 11), test_mae)\n",
    "plt.xlabel('Polynomial degree')\n",
    "plt.ylabel('Mae')\n",
    "plt.grid()\n",
    "plt.show()"
   ],
   "execution_count": 645,
   "outputs": [
    {
     "data": {
      "text/plain": "<Figure size 432x288 with 1 Axes>",
      "image/png": "[encoded data removed]"
     },
     "metadata": {
      "needs_background": "light"
     },
     "output_type": "display_data"
    },
    {
     "data": {
      "text/plain": "<Figure size 432x288 with 1 Axes>",
      "image/png": "[encoded data removed]"
     },
     "metadata": {
      "needs_background": "light"
     },
     "output_type": "display_data"
    }
   ]
  },
  {
   "cell_type": "code",
   "execution_count": 646,
   "metadata": {
    "pycharm": {
     "is_executing": false
    }
   },
   "outputs": [
    {
     "name": "stdout",
     "text": [
      "Lasso mae: 18.086834261970118\n"
     ],
     "output_type": "stream"
    }
   ],
   "source": [
    "reg = LassoCV(cv = 5, max_iter = 10000)\n",
    "reg.fit(x_train, y_train)\n",
    "lasso_mae = mean_absolute_error(y_test, reg.predict(x_test))\n",
    " \n",
    "print(\"Lasso mae: {}\".format(lasso_mae))"
   ]
  },
  {
   "cell_type": "code",
   "metadata": {
    "pycharm": {
     "name": "#%%\n",
     "is_executing": false
    }
   },
   "source": [
    "reg = RidgeCV(cv = 5)\n",
    "reg.fit(x_train, y_train)\n",
    "ridge_mae = mean_absolute_error(y_test, reg.predict(x_test))\n",
    "\n",
    "print(\"Ridge mae: {}\".format(ridge_mae))"
   ],
   "execution_count": 647,
   "outputs": [
    {
     "name": "stdout",
     "text": [
      "Ridge mae: 0.9445963380759917\n"
     ],
     "output_type": "stream"
    }
   ]
  },
  {
   "cell_type": "code",
   "execution_count": 648,
   "metadata": {
    "scrolled": true,
    "pycharm": {
     "is_executing": false
    }
   },
   "outputs": [],
   "source": [
    "X2 = X[:, :5]\n",
    "comb1 = 2 * X2[:, 2] + X2[:, 1]\n",
    "comb1 = np.reshape(comb1, (k, 1))\n",
    "\n",
    "comb2 = X2[:, 0] + X2[:, 4]\n",
    "comb2 = np.reshape(comb2, (k, 1))\n",
    "\n",
    "X2 = np.hstack((X2, comb1))\n",
    "X2 = np.hstack((X2, comb2))\n",
    "\n",
    "x_train, x_test, y_train, y_test = train_test_split(X2, y, train_size = 0.7)"
   ]
  },
  {
   "cell_type": "code",
   "metadata": {
    "pycharm": {
     "name": "#%%\n",
     "is_executing": false
    }
   },
   "source": [
    "reg = LinearRegression()\n",
    "reg.fit(x_train, y_train)\n",
    "\n",
    "print(\"linear regression mae: {}\".format(mean_absolute_error(y_test, reg.predict(x_test))))"
   ],
   "execution_count": 649,
   "outputs": [
    {
     "name": "stdout",
     "text": [
      "linear regression mae: 0.8677845569775926\n"
     ],
     "output_type": "stream"
    }
   ]
  },
  {
   "cell_type": "code",
   "execution_count": 650,
   "metadata": {
    "pycharm": {
     "is_executing": false
    }
   },
   "outputs": [
    {
     "name": "stdout",
     "text": [
      "Lasso mae: 1.5742420146386955\n",
      "Lasso weights: [ 0.         -0.          0.          2.77027516  0.          1.72461941\n",
      "  3.20519438]\n"
     ],
     "output_type": "stream"
    }
   ],
   "source": [
    "reg = LassoCV(cv = 5, max_iter = 10000)\n",
    "reg.fit(x_train, y_train)\n",
    "\n",
    "print(\"Lasso mae: {}\".format(mean_absolute_error(y_test, reg.predict(x_test))))\n",
    "print(\"Lasso weights: {}\".format(reg.coef_))"
   ]
  },
  {
   "cell_type": "code",
   "execution_count": 651,
   "metadata": {
    "pycharm": {
     "is_executing": false
    }
   },
   "outputs": [
    {
     "name": "stdout",
     "text": [
      "Ridge mae: 0.8673871641592368\n",
      "Ridge weights: [ 0.57447065 -3.03720741  2.0101726   3.35732912  1.31484106  0.9831378\n",
      "  1.88931171]\n"
     ],
     "output_type": "stream"
    }
   ],
   "source": [
    "reg = RidgeCV(cv = 5)\n",
    "reg.fit(x_train, y_train)\n",
    "\n",
    "print(\"Ridge mae: {}\".format(mean_absolute_error(y_test, reg.predict(x_test))))\n",
    "print(\"Ridge weights: {}\".format(reg.coef_))"
   ]
  },
  {
   "cell_type": "markdown",
   "metadata": {
    "pycharm": {
     "name": "#%% md\n"
    }
   },
   "source": [
    "10 experiments:\n",
    "    - more features => better prediction\n",
    "Ridge and Lasso:\n",
    "    - Ridge works better than Lasso\n",
    "Correlation features:\n",
    "    - Correlation features help a bit\n",
    "    "
   ]
  }
 ],
 "metadata": {
  "kernelspec": {
   "display_name": "Python 3",
   "language": "python",
   "name": "python3"
  },
  "language_info": {
   "codemirror_mode": {
    "name": "ipython",
    "version": 3
   },
   "file_extension": ".py",
   "mimetype": "text/x-python",
   "name": "python",
   "nbconvert_exporter": "python",
   "pygments_lexer": "ipython3",
   "version": "3.6.4"
  },
  "pycharm": {
   "stem_cell": {
    "cell_type": "raw",
    "source": [],
    "metadata": {
     "collapsed": false
    }
   }
  }
 },
 "nbformat": 4,
 "nbformat_minor": 2
}