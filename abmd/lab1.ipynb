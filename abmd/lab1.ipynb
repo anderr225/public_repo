{
 "cells": [
  {
   "cell_type": "markdown",
   "metadata": {},
   "source": [
    "Download Iris dataset"
   ]
  },
  {
   "cell_type": "code",
   "execution_count": 107,
   "metadata": {
    "pycharm": {
     "is_executing": false
    }
   },
   "outputs": [
    {
     "name": "stdout",
     "text": [
      "Number of objects in the dataset: 150\n",
      "Number of classes: 3\n",
      "Names of classes: setosa, versicolor, virginica\n",
      "Number of features: 4\n",
      "Names of features: sepal length (cm), sepal width (cm), petal length (cm), petal width (cm)\n"
     ],
     "output_type": "stream"
    }
   ],
   "source": [
    "from sklearn import datasets\n",
    "\n",
    "iris = datasets.load_iris()\n",
    "\n",
    "print(\"Number of objects in the dataset: \" + str(iris.data.shape[0]))\n",
    "\n",
    "print(\"Number of classes: \" + str(len(iris.target_names)))\n",
    "print(\"Names of classes: \" + \", \".join(iris.target_names))\n",
    "\n",
    "print(\"Number of features: \" + str(len(iris.feature_names)))\n",
    "print(\"Names of features: \" + \", \".join(iris.feature_names))"
   ]
  },
  {
   "cell_type": "markdown",
   "metadata": {},
   "source": [
    "Split dataset: 70 / 30 - train / test"
   ]
  },
  {
   "cell_type": "code",
   "execution_count": 108,
   "metadata": {
    "pycharm": {
     "is_executing": false
    }
   },
   "outputs": [],
   "source": [
    "from sklearn.model_selection import train_test_split\n",
    "\n",
    "x_train, x_test, y_train, y_test = train_test_split(iris.data, iris.target, train_size = 0.7)"
   ]
  },
  {
   "cell_type": "markdown",
   "metadata": {},
   "source": [
    "Use 3 neighbors classifier."
   ]
  },
  {
   "cell_type": "code",
   "execution_count": 109,
   "metadata": {
    "pycharm": {
     "is_executing": false
    }
   },
   "outputs": [
    {
     "name": "stdout",
     "text": [
      "Confusion matrix:\n",
      "[[14  0  0]\n",
      " [ 0 17  2]\n",
      " [ 0  0 12]]\n",
      "Recall with macro average: 0.9649122807017544\n",
      "F1-score with macro average: 0.9558404558404558\n",
      "Precision with macro average: 0.9523809523809524\n",
      "\n",
      "Recall with micro average: 0.9555555555555556\n",
      "F1-score with micro average: 0.9555555555555556\n",
      "Precision with micro average: 0.9555555555555556\n",
      "\n",
      "Accuracy: 0.9555555555555556\n"
     ],
     "output_type": "stream"
    }
   ],
   "source": [
    "from sklearn.neighbors import KNeighborsClassifier\n",
    "from sklearn.metrics import confusion_matrix\n",
    "\n",
    "from sklearn.metrics import accuracy_score\n",
    "from sklearn.metrics import recall_score\n",
    "from sklearn.metrics import precision_score\n",
    "from sklearn.metrics import f1_score\n",
    "\n",
    "neigh = KNeighborsClassifier(n_neighbors = 3)\n",
    "neigh.fit(x_train, y_train)\n",
    "\n",
    "y_pred = neigh.predict(x_test)\n",
    "print(\"Confusion matrix:\\n\" + str(confusion_matrix(y_test, y_pred)))\n",
    "\n",
    "average_types = 'macro', 'micro'\n",
    "for avg_type in average_types:\n",
    "    print('Recall with {0} average: '.format(avg_type) + str(recall_score(y_test, y_pred, average = avg_type)))\n",
    "    print('F1-score with {0} average: '.format(avg_type) + str(f1_score(y_test, y_pred, average = avg_type)))\n",
    "    print('Precision with {0} average: '.format(avg_type) + str(precision_score(y_test, y_pred, average = avg_type)))\n",
    "    print()\n",
    "\n",
    "print('Accuracy: ' + str(accuracy_score(y_test, y_pred)))"
   ]
  },
  {
   "cell_type": "markdown",
   "metadata": {},
   "source": [
    "Choose one class, solve binary classification problem"
   ]
  },
  {
   "cell_type": "code",
   "execution_count": 110,
   "metadata": {
    "pycharm": {
     "is_executing": false
    }
   },
   "outputs": [],
   "source": [
    "iris_binary = datasets.load_iris()\n",
    "iris_binary.target_names = 'yes', 'no'\n",
    "iris_binary.target = [1 if i < 100 else 0 for i in range(150)]"
   ]
  },
  {
   "cell_type": "code",
   "execution_count": 111,
   "metadata": {
    "pycharm": {
     "is_executing": false
    }
   },
   "outputs": [],
   "source": [
    "x_train_binary, x_test_binary, y_train_binary, y_test_binary = train_test_split(iris_binary.data, iris_binary.target, train_size = 0.7)"
   ]
  },
  {
   "cell_type": "code",
   "execution_count": 112,
   "metadata": {
    "pycharm": {
     "is_executing": false,
     "name": "#%%\n"
    }
   },
   "outputs": [
    {
     "name": "stdout",
     "text": [
      "Confusion matrix:\n",
      "[[16  0]\n",
      " [ 1 28]]\n"
     ],
     "output_type": "stream"
    }
   ],
   "source": [
    "neigh_binary = KNeighborsClassifier(n_neighbors = 5, metric = 'euclidean')\n",
    "neigh_binary.fit(x_train_binary, y_train_binary)\n",
    "\n",
    "y_pred_bi = neigh_binary.predict(x_test_binary)\n",
    "\n",
    "print(\"Confusion matrix:\\n\" + str(confusion_matrix(y_test_binary, y_pred_bi)))"
   ]
  },
  {
   "cell_type": "code",
   "execution_count": 113,
   "metadata": {
    "pycharm": {
     "is_executing": false
    }
   },
   "outputs": [
    {
     "name": "stdout",
     "text": [
      "Recall with macro average: 0.9827586206896552\n",
      "F1-score with macro average: 0.9760765550239234\n",
      "Precision with macro average: 0.9705882352941176\n",
      "\n",
      "Recall with micro average: 0.9777777777777777\n",
      "F1-score with micro average: 0.9777777777777777\n",
      "Precision with micro average: 0.9777777777777777\n",
      "\n",
      "Accuracy: 0.9777777777777777\n"
     ],
     "output_type": "stream"
    }
   ],
   "source": [
    "average_types = 'macro', 'micro'\n",
    "for avg_type in average_types:\n",
    "    print('Recall with {0} average: '.format(avg_type) + str(recall_score(y_test_binary, y_pred_bi, average = avg_type)))\n",
    "    print('F1-score with {0} average: '.format(avg_type) + str(f1_score(y_test_binary, y_pred_bi, average = avg_type)))\n",
    "    print('Precision with {0} average: '.format(avg_type) + str(precision_score(y_test_binary, y_pred_bi, average = avg_type)))\n",
    "    print()\n",
    "\n",
    "print('Accuracy: ' + str(accuracy_score(y_test_binary, y_pred_bi)))"
   ]
  },
  {
   "cell_type": "markdown",
   "metadata": {},
   "source": [
    "Draw ROC curve."
   ]
  },
  {
   "cell_type": "code",
   "execution_count": 114,
   "metadata": {
    "pycharm": {
     "is_executing": false
    }
   },
   "outputs": [
    {
     "data": {
      "text/plain": "<Figure size 432x288 with 1 Axes>",
      "image/png": "[encoded data removed]"
     },
     "metadata": {
      "needs_background": "light"
     },
     "output_type": "display_data"
    }
   ],
   "source": [
    "from sklearn.metrics import roc_curve\n",
    "from sklearn.metrics import auc\n",
    "import matplotlib.pyplot as plt\n",
    "\n",
    "y_score_binary = neigh_binary.predict_proba(x_test_binary)[:, 1]\n",
    "\n",
    "fpr, tpr, _ = roc_curve(y_test_binary, y_score_binary, pos_label = 1)\n",
    "roc_auc = auc(fpr, tpr)\n",
    "\n",
    "plt.title('ROC Curve')\n",
    "plt.plot(fpr, tpr, 'blue', label = 'AUC = %0.2f' % roc_auc)\n",
    "plt.legend(loc = 'lower right')\n",
    "plt.plot([0, 1], [0, 1],'r--')\n",
    "plt.xlim([0, 1.05])\n",
    "plt.ylim([0, 1.05])\n",
    "plt.ylabel('True Positive Rate')\n",
    "plt.xlabel('False Positive Rate')\n",
    "plt.show()"
   ]
  },
  {
   "cell_type": "code",
   "execution_count": 115,
   "metadata": {
    "pycharm": {
     "is_executing": false
    }
   },
   "outputs": [
    {
     "name": "stdout",
     "text": [
      "Area of the ROC curve: 0.9989224137931034\n"
     ],
     "output_type": "stream"
    }
   ],
   "source": [
    "print(\"Area of the ROC curve: \" + str(roc_auc))"
   ]
  },
  {
   "cell_type": "markdown",
   "metadata": {},
   "source": [
    "Draw Precision-Recall curve"
   ]
  },
  {
   "cell_type": "code",
   "execution_count": 116,
   "metadata": {
    "pycharm": {
     "is_executing": false
    }
   },
   "outputs": [
    {
     "data": {
      "text/plain": "<Figure size 432x288 with 1 Axes>",
      "image/png": "[encoded data removed]"
     },
     "metadata": {
      "needs_background": "light"
     },
     "output_type": "display_data"
    }
   ],
   "source": [
    "from sklearn.metrics import precision_recall_curve\n",
    "\n",
    "precision, recall, _ = precision_recall_curve(y_test_binary, y_score_binary, pos_label=1)\n",
    "\n",
    "plt.title('Precision-Recall Curve')\n",
    "plt.xlabel('Recall')\n",
    "plt.ylabel('Precision')\n",
    "plt.plot(recall, precision, 'blue')\n",
    "plt.ylim([0.0, 1.05])\n",
    "plt.xlim([0.0, 1.05])\n",
    "plt.xlim([0, 1.05])\n",
    "plt.ylim([0, 1.05])\n",
    "plt.show()\n"
   ]
  }
 ],
 "metadata": {
  "kernelspec": {
   "display_name": "Python 3",
   "language": "python",
   "name": "python3"
  },
  "language_info": {
   "codemirror_mode": {
    "name": "ipython",
    "version": 3
   },
   "file_extension": ".py",
   "mimetype": "text/x-python",
   "name": "python",
   "nbconvert_exporter": "python",
   "pygments_lexer": "ipython3",
   "version": "3.6.4"
  },
  "pycharm": {
   "stem_cell": {
    "cell_type": "raw",
    "source": [],
    "metadata": {
     "collapsed": false
    }
   }
  }
 },
 "nbformat": 4,
 "nbformat_minor": 2
}