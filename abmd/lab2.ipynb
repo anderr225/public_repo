{
 "cells": [
  {
   "cell_type": "markdown",
   "metadata": {},
   "source": [
    "Download Boston dataset\n",
    "Split dataset: 70 / 30 - train / test"
   ]
  },
  {
   "cell_type": "code",
   "execution_count": 6,
   "metadata": {
    "pycharm": {
     "is_executing": false
    }
   },
   "outputs": [],
   "source": [
    "from sklearn.datasets import load_boston\n",
    "from sklearn.model_selection import train_test_split\n",
    "\n",
    "boston = load_boston()\n",
    "\n",
    "x_train, x_test, y_train, y_test = train_test_split(boston.data, boston.target, train_size = 0.7)"
   ]
  },
  {
   "cell_type": "markdown",
   "metadata": {},
   "source": [
    "Train linear regression and random forest"
   ]
  },
  {
   "cell_type": "code",
   "execution_count": 7,
   "metadata": {
    "pycharm": {
     "is_executing": false
    }
   },
   "outputs": [],
   "source": [
    "from sklearn.linear_model import LinearRegression\n",
    "from sklearn.ensemble import RandomForestClassifier\n",
    "\n",
    "lr = LinearRegression()\n",
    "\n",
    "lr.fit(x_train, y_train)\n",
    "y_lr_pred = lr.predict(x_test)\n",
    "\n",
    "y_train_rounded = [round(y) for y in y_train]\n",
    "# y_train_mapped = map(round, y_train)\n",
    "\n",
    "rf = RandomForestClassifier(n_estimators = 30, random_state = 0)\n",
    "rf.fit(x_train, y_train_rounded)\n",
    "y_rf_pred = rf.predict(x_test)"
   ]
  },
  {
   "cell_type": "markdown",
   "metadata": {},
   "source": [
    "Compare results with MAE metric"
   ]
  },
  {
   "cell_type": "code",
   "execution_count": 8,
   "metadata": {
    "pycharm": {
     "is_executing": false
    }
   },
   "outputs": [
    {
     "name": "stdout",
     "text": [
      "MAE of LinearRegression 3.190663288398581\n",
      "MAE of RandomForestClassifier 2.6006578947368424\n"
     ],
     "output_type": "stream"
    }
   ],
   "source": [
    "from sklearn.metrics import mean_absolute_error\n",
    "\n",
    "print('MAE of LinearRegression ' + str(mean_absolute_error(y_test, y_lr_pred)))\n",
    "print('MAE of RandomForestClassifier ' + str(mean_absolute_error(y_test, y_rf_pred)))"
   ]
  },
  {
   "cell_type": "markdown",
   "metadata": {},
   "source": [
    "Show features importance in random forest"
   ]
  },
  {
   "cell_type": "code",
   "execution_count": 9,
   "metadata": {
    "pycharm": {
     "is_executing": false
    }
   },
   "outputs": [
    {
     "name": "stdout",
     "text": [
      "0.11430643977969819:\tCRIM\n",
      "0.020742248252247204:\tZN\n",
      "0.04932038658492186:\tINDUS\n",
      "0.010703573842632246:\tCHAS\n",
      "0.07288458913895864:\tNOX\n",
      "0.1360804423228355:\tRM\n",
      "0.10657942629233735:\tAGE\n",
      "0.11070893361207226:\tDIS\n",
      "0.03384371053766679:\tRAD\n",
      "0.04919905061633206:\tTAX\n",
      "0.055097539792198946:\tPTRATIO\n",
      "0.10259578199332474:\tB\n",
      "0.1379378772347744:\tLSTAT\n"
     ],
     "output_type": "stream"
    }
   ],
   "source": [
    "for inx, feature_name in enumerate(boston.feature_names):\n",
    "    print('{0}:\\t{1}'.format(rf.feature_importances_[inx], feature_name))"
   ]
  },
  {
   "cell_type": "markdown",
   "metadata": {},
   "source": [
    "RFE https://scikit-learn.org/stable/modules/generated/sklearn.feature_selection.RFE.html#sklearn.feature_selection.RFE"
   ]
  },
  {
   "cell_type": "code",
   "execution_count": 10,
   "metadata": {
    "pycharm": {
     "name": "#%%\n",
     "is_executing": false
    }
   },
   "outputs": [
    {
     "name": "stdout",
     "text": [
      "RFE asnwer:\tNOX\n",
      "Max abs coef:\tNOX\n",
      "Max coef:\tRM\n"
     ],
     "output_type": "stream"
    }
   ],
   "source": [
    "from sklearn.feature_selection import RFE\n",
    "from numpy import absolute\n",
    "\n",
    "rfe = RFE(lr, 1)\n",
    "ftrs = rfe.fit(boston.data, boston.target)\n",
    "\n",
    "for inx, feature_name in enumerate(boston.feature_names):\n",
    "    if ftrs.support_[inx]:\n",
    "        print('RFE asnwer:\\t{0}'.format(feature_name))\n",
    "\n",
    "print('Max abs coef:\\t{0}'.format(boston.feature_names[absolute(lr.coef_).argmax()]))\n",
    "print('Max coef:\\t{0}'.format(boston.feature_names[lr.coef_.argmax()]))"
   ]
  }
 ],
 "metadata": {
  "kernelspec": {
   "display_name": "Python 3",
   "language": "python",
   "name": "python3"
  },
  "language_info": {
   "codemirror_mode": {
    "name": "ipython",
    "version": 3
   },
   "file_extension": ".py",
   "mimetype": "text/x-python",
   "name": "python",
   "nbconvert_exporter": "python",
   "pygments_lexer": "ipython3",
   "version": "3.6.4"
  },
  "pycharm": {
   "stem_cell": {
    "cell_type": "raw",
    "source": [],
    "metadata": {
     "collapsed": false
    }
   }
  }
 },
 "nbformat": 4,
 "nbformat_minor": 2
}